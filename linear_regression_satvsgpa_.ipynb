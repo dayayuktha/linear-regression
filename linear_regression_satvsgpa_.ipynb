{
  "nbformat": 4,
  "nbformat_minor": 0,
  "metadata": {
    "colab": {
      "provenance": []
    },
    "kernelspec": {
      "name": "python3",
      "display_name": "Python 3"
    },
    "language_info": {
      "name": "python"
    }
  },
  "cells": [
    {
      "cell_type": "code",
      "source": [
        "import matplotlib.pyplot as plt\n"
      ],
      "metadata": {
        "id": "o8dXjhRMs7fk"
      },
      "execution_count": null,
      "outputs": []
    },
    {
      "cell_type": "code",
      "source": [
        "import pandas as pd"
      ],
      "metadata": {
        "id": "bZgLxkUysshu"
      },
      "execution_count": null,
      "outputs": []
    },
    {
      "cell_type": "code",
      "source": [
        "data = pd.read_csv(\"/content/1.01. Simple linear regression.csv\")"
      ],
      "metadata": {
        "id": "I01oPudEs-PH"
      },
      "execution_count": null,
      "outputs": []
    },
    {
      "cell_type": "code",
      "source": [
        "plt.show()"
      ],
      "metadata": {
        "id": "UpVFbi3Bun2m"
      },
      "execution_count": null,
      "outputs": []
    },
    {
      "cell_type": "code",
      "source": [
        "def loss_function(m,b,points):\n",
        "  total_error = 0\n",
        "  for i in range(len(points)):\n",
        "    x= points.iloc[i].SAT\n",
        "    y=points.iloc[i].GPA\n",
        "    total_error += (y-(mx+b))**2 #mean sqaure error\n",
        "  total_error/float(len(points))\n"
      ],
      "metadata": {
        "id": "WmVqUAZJutDj"
      },
      "execution_count": null,
      "outputs": []
    },
    {
      "cell_type": "code",
      "source": [
        "def gradient_descent(m_now, b_now, points, L):\n",
        "  n = len(points)\n",
        "  m_grad = 0\n",
        "  b_grad = 0\n",
        "  for i in range(n):\n",
        "    x = points[\"SAT\"][i]\n",
        "    y = points[\"GPA\"][i]\n",
        "    m_grad += -(2/n)*x*(y-(m_now*x +b_now))\n",
        "    b_grad += -(2/n)*(y-(m_now*x +b_now))\n",
        "  m = m_now - m_grad*L\n",
        "  b = b_now - m_grad*L\n",
        "  return m, b"
      ],
      "metadata": {
        "id": "p3A7i6G6utLB"
      },
      "execution_count": null,
      "outputs": []
    },
    {
      "cell_type": "code",
      "source": [
        "m=0.5\n",
        "b=0.5\n",
        "L=0.0001\n",
        "epochs=10000\n",
        "for i in range(epochs):\n",
        "  if i%50==0:\n",
        "    print(f\"epoch:{i}\")\n",
        "  m,b =  gradient_descent(m,b,data,L)\n",
        "\n",
        "print(m,b)\n",
        "plt.scatter(data.SAT,data.GPA,color=\"blue\")\n",
        "plt.plot(list(range(20,80)),[m*x+b for x in range(20,80)],color =\"red\")\n",
        "\n",
        "plt.show()"
      ],
      "metadata": {
        "colab": {
          "base_uri": "https://localhost:8080/",
          "height": 1000
        },
        "id": "fCvCLnlKwTXQ",
        "outputId": "d5c9d4bc-f89c-42a1-8f7a-34b00b1d9fc9"
      },
      "execution_count": null,
      "outputs": [
        {
          "output_type": "stream",
          "name": "stdout",
          "text": [
            "epoch:0\n",
            "epoch:50\n",
            "epoch:100\n",
            "epoch:150\n",
            "epoch:200\n",
            "epoch:250\n",
            "epoch:300\n",
            "epoch:350\n",
            "epoch:400\n",
            "epoch:450\n",
            "epoch:500\n",
            "epoch:550\n",
            "epoch:600\n",
            "epoch:650\n",
            "epoch:700\n",
            "epoch:750\n",
            "epoch:800\n",
            "epoch:850\n",
            "epoch:900\n",
            "epoch:950\n",
            "epoch:1000\n",
            "epoch:1050\n",
            "epoch:1100\n",
            "epoch:1150\n",
            "epoch:1200\n",
            "epoch:1250\n",
            "epoch:1300\n",
            "epoch:1350\n",
            "epoch:1400\n"
          ]
        },
        {
          "output_type": "stream",
          "name": "stderr",
          "text": [
            "<ipython-input-27-8fd7e17d2afd>:8: RuntimeWarning: overflow encountered in scalar add\n",
            "  m_grad += -(2/n)*x*(y-(m_now*x +b_now))\n",
            "<ipython-input-27-8fd7e17d2afd>:10: RuntimeWarning: invalid value encountered in scalar subtract\n",
            "  m = m_now - m_grad*L\n",
            "<ipython-input-27-8fd7e17d2afd>:11: RuntimeWarning: invalid value encountered in scalar subtract\n",
            "  b = b_now - m_grad*L\n"
          ]
        },
        {
          "output_type": "stream",
          "name": "stdout",
          "text": [
            "epoch:1450\n",
            "epoch:1500\n",
            "epoch:1550\n",
            "epoch:1600\n",
            "epoch:1650\n",
            "epoch:1700\n",
            "epoch:1750\n",
            "epoch:1800\n",
            "epoch:1850\n",
            "epoch:1900\n",
            "epoch:1950\n",
            "epoch:2000\n",
            "epoch:2050\n",
            "epoch:2100\n",
            "epoch:2150\n",
            "epoch:2200\n",
            "epoch:2250\n",
            "epoch:2300\n",
            "epoch:2350\n",
            "epoch:2400\n",
            "epoch:2450\n",
            "epoch:2500\n",
            "epoch:2550\n",
            "epoch:2600\n",
            "epoch:2650\n",
            "epoch:2700\n",
            "epoch:2750\n",
            "epoch:2800\n",
            "epoch:2850\n",
            "epoch:2900\n",
            "epoch:2950\n",
            "epoch:3000\n",
            "epoch:3050\n",
            "epoch:3100\n",
            "epoch:3150\n",
            "epoch:3200\n",
            "epoch:3250\n",
            "epoch:3300\n",
            "epoch:3350\n",
            "epoch:3400\n",
            "epoch:3450\n",
            "epoch:3500\n",
            "epoch:3550\n",
            "epoch:3600\n",
            "epoch:3650\n",
            "epoch:3700\n",
            "epoch:3750\n",
            "epoch:3800\n",
            "epoch:3850\n",
            "epoch:3900\n",
            "epoch:3950\n",
            "epoch:4000\n",
            "epoch:4050\n",
            "epoch:4100\n",
            "epoch:4150\n",
            "epoch:4200\n",
            "epoch:4250\n",
            "epoch:4300\n",
            "epoch:4350\n",
            "epoch:4400\n",
            "epoch:4450\n",
            "epoch:4500\n",
            "epoch:4550\n",
            "epoch:4600\n",
            "epoch:4650\n",
            "epoch:4700\n",
            "epoch:4750\n",
            "epoch:4800\n",
            "epoch:4850\n",
            "epoch:4900\n",
            "epoch:4950\n",
            "epoch:5000\n",
            "epoch:5050\n",
            "epoch:5100\n",
            "epoch:5150\n",
            "epoch:5200\n",
            "epoch:5250\n",
            "epoch:5300\n",
            "epoch:5350\n",
            "epoch:5400\n",
            "epoch:5450\n",
            "epoch:5500\n",
            "epoch:5550\n",
            "epoch:5600\n",
            "epoch:5650\n",
            "epoch:5700\n",
            "epoch:5750\n",
            "epoch:5800\n",
            "epoch:5850\n",
            "epoch:5900\n",
            "epoch:5950\n",
            "epoch:6000\n",
            "epoch:6050\n",
            "epoch:6100\n",
            "epoch:6150\n",
            "epoch:6200\n",
            "epoch:6250\n",
            "epoch:6300\n",
            "epoch:6350\n",
            "epoch:6400\n",
            "epoch:6450\n",
            "epoch:6500\n",
            "epoch:6550\n",
            "epoch:6600\n",
            "epoch:6650\n",
            "epoch:6700\n",
            "epoch:6750\n",
            "epoch:6800\n",
            "epoch:6850\n",
            "epoch:6900\n",
            "epoch:6950\n",
            "epoch:7000\n",
            "epoch:7050\n",
            "epoch:7100\n",
            "epoch:7150\n",
            "epoch:7200\n",
            "epoch:7250\n",
            "epoch:7300\n",
            "epoch:7350\n",
            "epoch:7400\n",
            "epoch:7450\n",
            "epoch:7500\n",
            "epoch:7550\n",
            "epoch:7600\n",
            "epoch:7650\n",
            "epoch:7700\n",
            "epoch:7750\n",
            "epoch:7800\n",
            "epoch:7850\n",
            "epoch:7900\n",
            "epoch:7950\n",
            "epoch:8000\n",
            "epoch:8050\n",
            "epoch:8100\n",
            "epoch:8150\n",
            "epoch:8200\n",
            "epoch:8250\n",
            "epoch:8300\n",
            "epoch:8350\n",
            "epoch:8400\n",
            "epoch:8450\n",
            "epoch:8500\n",
            "epoch:8550\n",
            "epoch:8600\n",
            "epoch:8650\n",
            "epoch:8700\n",
            "epoch:8750\n",
            "epoch:8800\n",
            "epoch:8850\n",
            "epoch:8900\n",
            "epoch:8950\n",
            "epoch:9000\n",
            "epoch:9050\n",
            "epoch:9100\n",
            "epoch:9150\n",
            "epoch:9200\n",
            "epoch:9250\n",
            "epoch:9300\n",
            "epoch:9350\n",
            "epoch:9400\n",
            "epoch:9450\n",
            "epoch:9500\n",
            "epoch:9550\n",
            "epoch:9600\n",
            "epoch:9650\n",
            "epoch:9700\n",
            "epoch:9750\n",
            "epoch:9800\n",
            "epoch:9850\n",
            "epoch:9900\n",
            "epoch:9950\n",
            "nan nan\n"
          ]
        },
        {
          "output_type": "display_data",
          "data": {
            "text/plain": [
              "<Figure size 640x480 with 1 Axes>"
            ],
            "image/png": "[encoded data removed]"
          },
          "metadata": {}
        }
      ]
    },
    {
      "cell_type": "markdown",
      "source": [],
      "metadata": {
        "id": "XEgzfCjm1pxC"
      }
    },
    {
      "cell_type": "code",
      "source": [
        "# plt.scatter(data.SAT,data.GPA,color=\"blue\")\n",
        "plt.plot(list(range(20,80)),[m*x+b for x in range(20,80)],color =\"red\")"
      ],
      "metadata": {
        "colab": {
          "base_uri": "https://localhost:8080/",
          "height": 447
        },
        "id": "aLHfLuEKutN5",
        "outputId": "2a0f5399-de8e-4e15-fe8d-d2992059e829"
      },
      "execution_count": null,
      "outputs": [
        {
          "output_type": "execute_result",
          "data": {
            "text/plain": [
              "[<matplotlib.lines.Line2D at 0x7ebfa508bbe0>]"
            ]
          },
          "metadata": {},
          "execution_count": 41
        },
        {
          "output_type": "display_data",
          "data": {
            "text/plain": [
              "<Figure size 640x480 with 1 Axes>"
            ],
            "image/png": "[encoded data removed]"
          },
          "metadata": {}
        }
      ]
    },
    {
      "cell_type": "code",
      "source": [],
      "metadata": {
        "id": "bVEeoT6z2e5K"
      },
      "execution_count": null,
      "outputs": []
    }
  ]
}